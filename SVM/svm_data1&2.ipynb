{
 "cells": [
  {
   "cell_type": "markdown",
   "metadata": {},
   "source": [
    "Preprocessing: https://citeseerx.ist.psu.edu/viewdoc/download?doi=10.1.1.259.3762&rep=rep1&type=pdf"
   ]
  },
  {
   "cell_type": "code",
   "execution_count": 1,
   "metadata": {},
   "outputs": [],
   "source": [
    "# All the libraries used\n",
    "import cv2\n",
    "import os\n",
    "import numpy as np\n",
    "import pandas as pd\n",
    "import matplotlib.pyplot as plt\n",
    "\n",
    "from sklearn.decomposition import PCA\n",
    "from sklearn.model_selection import train_test_split\n",
    "from sklearn import svm\n",
    "from sklearn.cluster import KMeans\n",
    "from sklearn.metrics import confusion_matrix\n",
    "from sklearn.metrics import classification_report\n",
    "\n",
    "import time\n",
    "import random\n",
    "import math\n",
    "\n",
    "from scipy.ndimage import imread # Need to use scipy 1.1.0 to run imread\n",
    "import scipy.ndimage\n",
    "from scipy.misc import imresize\n",
    "import scipy \n",
    "import seaborn as sns"
   ]
  },
  {
   "cell_type": "markdown",
   "metadata": {},
   "source": [
    "## Loading dataset1"
   ]
  },
  {
   "cell_type": "code",
   "execution_count": 3,
   "metadata": {},
   "outputs": [],
   "source": [
    "path1 = \"/Users/haley/Desktop/CMPE 255/Rentinal Classification/gaussian_diabetic_retino/gaussian_filtered_images/gaussian_filtered_images/\"\n",
    "level = [\"Mild\",\"Moderate\",\"No_DR\",\"Proliferate_DR\",\"Severe\"]\n",
    "file_id = []\n",
    "gauss_x = []\n",
    "for i in level:    \n",
    "    for dirName, subdirList, fileList in os.walk(path1+i):\n",
    "        # Randomly pick k images from each level\n",
    "        random_images = random.choices(fileList,k=190)\n",
    "        for filename in random_images: \n",
    "            file_id.append(filename)\n",
    "            gauss_x.append(os.path.join(dirName,filename))   "
   ]
  },
  {
   "cell_type": "code",
   "execution_count": 4,
   "metadata": {},
   "outputs": [
    {
     "data": {
      "text/plain": [
       "950"
      ]
     },
     "execution_count": 4,
     "metadata": {},
     "output_type": "execute_result"
    }
   ],
   "source": [
    "len(file_id) # Total number of data points"
   ]
  },
  {
   "cell_type": "code",
   "execution_count": 5,
   "metadata": {
    "scrolled": true
   },
   "outputs": [
    {
     "data": {
      "text/html": [
       "<div>\n",
       "<style scoped>\n",
       "    .dataframe tbody tr th:only-of-type {\n",
       "        vertical-align: middle;\n",
       "    }\n",
       "\n",
       "    .dataframe tbody tr th {\n",
       "        vertical-align: top;\n",
       "    }\n",
       "\n",
       "    .dataframe thead th {\n",
       "        text-align: right;\n",
       "    }\n",
       "</style>\n",
       "<table border=\"1\" class=\"dataframe\">\n",
       "  <thead>\n",
       "    <tr style=\"text-align: right;\">\n",
       "      <th></th>\n",
       "      <th>id_code</th>\n",
       "      <th>diagnosis</th>\n",
       "    </tr>\n",
       "  </thead>\n",
       "  <tbody>\n",
       "    <tr>\n",
       "      <th>0</th>\n",
       "      <td>000c1434d8d7</td>\n",
       "      <td>2</td>\n",
       "    </tr>\n",
       "    <tr>\n",
       "      <th>1</th>\n",
       "      <td>001639a390f0</td>\n",
       "      <td>4</td>\n",
       "    </tr>\n",
       "    <tr>\n",
       "      <th>2</th>\n",
       "      <td>0024cdab0c1e</td>\n",
       "      <td>1</td>\n",
       "    </tr>\n",
       "    <tr>\n",
       "      <th>3</th>\n",
       "      <td>002c21358ce6</td>\n",
       "      <td>0</td>\n",
       "    </tr>\n",
       "    <tr>\n",
       "      <th>4</th>\n",
       "      <td>005b95c28852</td>\n",
       "      <td>0</td>\n",
       "    </tr>\n",
       "  </tbody>\n",
       "</table>\n",
       "</div>"
      ],
      "text/plain": [
       "        id_code  diagnosis\n",
       "0  000c1434d8d7          2\n",
       "1  001639a390f0          4\n",
       "2  0024cdab0c1e          1\n",
       "3  002c21358ce6          0\n",
       "4  005b95c28852          0"
      ]
     },
     "execution_count": 5,
     "metadata": {},
     "output_type": "execute_result"
    }
   ],
   "source": [
    "target1 = pd.read_csv(\"gaussian_diabetic_retino/train.csv\")\n",
    "target1.head()"
   ]
  },
  {
   "cell_type": "code",
   "execution_count": 6,
   "metadata": {},
   "outputs": [
    {
     "data": {
      "text/plain": [
       "0    1805\n",
       "2     999\n",
       "1     370\n",
       "4     295\n",
       "3     193\n",
       "Name: diagnosis, dtype: int64"
      ]
     },
     "execution_count": 6,
     "metadata": {},
     "output_type": "execute_result"
    }
   ],
   "source": [
    "target1['diagnosis'].value_counts()"
   ]
  },
  {
   "cell_type": "code",
   "execution_count": 8,
   "metadata": {},
   "outputs": [],
   "source": [
    "# To get the target values corresponding to given target csv file\n",
    "gauss_y = []\n",
    "for i in range(len(file_id)):\n",
    "    code = file_id[i][:-4] # Slice to get rid of .png at the end of str\n",
    "    label = target1['diagnosis'][target1['id_code'] == code]\n",
    "    gauss_y.append(int(label))\n",
    "gauss_y = np.array(gauss_y)"
   ]
  },
  {
   "cell_type": "markdown",
   "metadata": {},
   "source": [
    "## Loading dataset2"
   ]
  },
  {
   "cell_type": "code",
   "execution_count": 9,
   "metadata": {},
   "outputs": [
    {
     "data": {
      "text/html": [
       "<div>\n",
       "<style scoped>\n",
       "    .dataframe tbody tr th:only-of-type {\n",
       "        vertical-align: middle;\n",
       "    }\n",
       "\n",
       "    .dataframe tbody tr th {\n",
       "        vertical-align: top;\n",
       "    }\n",
       "\n",
       "    .dataframe thead th {\n",
       "        text-align: right;\n",
       "    }\n",
       "</style>\n",
       "<table border=\"1\" class=\"dataframe\">\n",
       "  <thead>\n",
       "    <tr style=\"text-align: right;\">\n",
       "      <th></th>\n",
       "      <th>Unnamed: 0</th>\n",
       "      <th>Unnamed: 0.1</th>\n",
       "      <th>image</th>\n",
       "      <th>level</th>\n",
       "    </tr>\n",
       "  </thead>\n",
       "  <tbody>\n",
       "    <tr>\n",
       "      <th>27040</th>\n",
       "      <td>27040</td>\n",
       "      <td>27055</td>\n",
       "      <td>34245_right</td>\n",
       "      <td>0</td>\n",
       "    </tr>\n",
       "    <tr>\n",
       "      <th>30941</th>\n",
       "      <td>30941</td>\n",
       "      <td>30957</td>\n",
       "      <td>39126_right</td>\n",
       "      <td>0</td>\n",
       "    </tr>\n",
       "    <tr>\n",
       "      <th>18558</th>\n",
       "      <td>18558</td>\n",
       "      <td>18570</td>\n",
       "      <td>23411_left</td>\n",
       "      <td>0</td>\n",
       "    </tr>\n",
       "    <tr>\n",
       "      <th>10664</th>\n",
       "      <td>10664</td>\n",
       "      <td>10671</td>\n",
       "      <td>13436_right</td>\n",
       "      <td>0</td>\n",
       "    </tr>\n",
       "    <tr>\n",
       "      <th>30842</th>\n",
       "      <td>30842</td>\n",
       "      <td>30858</td>\n",
       "      <td>39014_left</td>\n",
       "      <td>0</td>\n",
       "    </tr>\n",
       "    <tr>\n",
       "      <th>26251</th>\n",
       "      <td>26251</td>\n",
       "      <td>26266</td>\n",
       "      <td>33256_left</td>\n",
       "      <td>0</td>\n",
       "    </tr>\n",
       "    <tr>\n",
       "      <th>32137</th>\n",
       "      <td>32137</td>\n",
       "      <td>32153</td>\n",
       "      <td>40606_right</td>\n",
       "      <td>0</td>\n",
       "    </tr>\n",
       "    <tr>\n",
       "      <th>14976</th>\n",
       "      <td>14976</td>\n",
       "      <td>14985</td>\n",
       "      <td>18760_right</td>\n",
       "      <td>0</td>\n",
       "    </tr>\n",
       "    <tr>\n",
       "      <th>7508</th>\n",
       "      <td>7508</td>\n",
       "      <td>7512</td>\n",
       "      <td>9478_left</td>\n",
       "      <td>1</td>\n",
       "    </tr>\n",
       "    <tr>\n",
       "      <th>26463</th>\n",
       "      <td>26463</td>\n",
       "      <td>26478</td>\n",
       "      <td>33519_left</td>\n",
       "      <td>2</td>\n",
       "    </tr>\n",
       "  </tbody>\n",
       "</table>\n",
       "</div>"
      ],
      "text/plain": [
       "       Unnamed: 0  Unnamed: 0.1        image  level\n",
       "27040       27040         27055  34245_right      0\n",
       "30941       30941         30957  39126_right      0\n",
       "18558       18558         18570   23411_left      0\n",
       "10664       10664         10671  13436_right      0\n",
       "30842       30842         30858   39014_left      0\n",
       "26251       26251         26266   33256_left      0\n",
       "32137       32137         32153  40606_right      0\n",
       "14976       14976         14985  18760_right      0\n",
       "7508         7508          7512    9478_left      1\n",
       "26463       26463         26478   33519_left      2"
      ]
     },
     "execution_count": 9,
     "metadata": {},
     "output_type": "execute_result"
    }
   ],
   "source": [
    "path2 = \"resized_diabetic_2015/resized_train_cropped/resized_train_cropped\"  \n",
    "target2 = pd.read_csv(\"resized_diabetic_2015/trainLabels_cropped.csv\")\n",
    "target2.sample(10)"
   ]
  },
  {
   "cell_type": "code",
   "execution_count": 10,
   "metadata": {},
   "outputs": [],
   "source": [
    "level_0 = target2[\"image\"][target2['level'] == 0].tolist()\n",
    "level_1 = target2[\"image\"][target2['level'] == 1].tolist()\n",
    "level_2 = target2[\"image\"][target2['level'] == 2].tolist()\n",
    "level_3 = target2[\"image\"][target2['level'] == 3].tolist()\n",
    "level_4 = target2[\"image\"][target2['level'] == 4].tolist()\n",
    "\n",
    "K = 708\n",
    "level_0 = random.choices(level_0,k=K)\n",
    "level_1 = random.choices(level_1,k=K)\n",
    "level_2 = random.choices(level_2,k=K)\n",
    "level_3 = random.choices(level_3,k=K)\n",
    "level_4 = random.choices(level_4,k=K)"
   ]
  },
  {
   "cell_type": "code",
   "execution_count": 11,
   "metadata": {},
   "outputs": [],
   "source": [
    "# Creating X and Y \n",
    "resized_x = np.concatenate((level_0,level_1,level_2,level_3,level_4))\n",
    "resized_y = np.concatenate((np.zeros(K),np.ones(K),np.ones(K)*2,np.ones(K)*3,np.ones(K)*4))"
   ]
  },
  {
   "cell_type": "markdown",
   "metadata": {},
   "source": [
    "## Image to Array"
   ]
  },
  {
   "cell_type": "code",
   "execution_count": 12,
   "metadata": {},
   "outputs": [
    {
     "name": "stdout",
     "output_type": "stream",
     "text": [
      "===== READING DATA ========\n"
     ]
    },
    {
     "name": "stderr",
     "output_type": "stream",
     "text": [
      "/Users/haley/anaconda3/lib/python3.7/site-packages/ipykernel_launcher.py:8: DeprecationWarning: `imread` is deprecated!\n",
      "`imread` is deprecated in SciPy 1.0.0.\n",
      "Use ``matplotlib.pyplot.imread`` instead.\n",
      "  \n",
      "/Users/haley/anaconda3/lib/python3.7/site-packages/ipykernel_launcher.py:8: DeprecationWarning: `imresize` is deprecated!\n",
      "`imresize` is deprecated in SciPy 1.0.0, and will be removed in 1.2.0.\n",
      "Use ``skimage.transform.resize`` instead.\n",
      "  \n"
     ]
    },
    {
     "name": "stdout",
     "output_type": "stream",
     "text": [
      "===== Done READING DATA ========\n"
     ]
    }
   ],
   "source": [
    "# 0. Read the data1 into Numpy\n",
    "n1 = len(gauss_x)\n",
    "one = np.zeros((n1,224,224))\n",
    "\n",
    "# 0.5 Transfer All of the Data into array\n",
    "print('===== READING DATA ========')\n",
    "for file_index in range(n1):\n",
    "    one[file_index,:,:]   = imresize(imread(gauss_x[file_index],mode='F',flatten=True),(224,224))\n",
    "print('===== Done READING DATA ========')"
   ]
  },
  {
   "cell_type": "code",
   "execution_count": 19,
   "metadata": {
    "scrolled": true
   },
   "outputs": [],
   "source": [
    "# 0. Read the data2 into Numpy\n",
    "n2 = len(resized_x)\n",
    "pixels = 224\n",
    "two = np.zeros((n2,pixels,pixels))\n",
    "\n",
    "for file_name in range(n2):\n",
    "    image_path = path2+\"/\"+resized_x[file_name]+\".jpeg\"\n",
    "    two[file_name,:,:]   = cv2.resize(cv2.imread(image_path,0),(224,224))\n"
   ]
  },
  {
   "cell_type": "code",
   "execution_count": 15,
   "metadata": {},
   "outputs": [],
   "source": [
    "Y = np.concatenate((gauss_y,resized_y))"
   ]
  },
  {
   "cell_type": "code",
   "execution_count": 14,
   "metadata": {},
   "outputs": [],
   "source": [
    "whole = np.concatenate((one,two))"
   ]
  },
  {
   "cell_type": "code",
   "execution_count": 17,
   "metadata": {},
   "outputs": [],
   "source": [
    "# Normalization\n",
    "whole = (whole - np.mean(whole)) / math.sqrt(np.var(whole))"
   ]
  },
  {
   "cell_type": "markdown",
   "metadata": {},
   "source": [
    "## Applying Gaussian filter with Laplacian\n",
    "\n",
    "* Read about how Laplacian of Gaussian works here: https://homepages.inf.ed.ac.uk/rbf/HIPR2/log.htm\n",
    "* Using cv2 to apply this technique: \n",
    "https://opencv-python-tutroals.readthedocs.io/en/latest/py_tutorials/py_imgproc/py_filtering/py_filtering.html"
   ]
  },
  {
   "cell_type": "code",
   "execution_count": 35,
   "metadata": {},
   "outputs": [],
   "source": [
    "# LoG (Smooth) Function\n",
    "data_array = []\n",
    "for x in range(len(whole)):\n",
    "    s = 1.75\n",
    "    temp = scipy.ndimage.filters.gaussian_filter(\n",
    "        whole[x,:,:],\n",
    "        sigma = s\n",
    "        )\n",
    "    \n",
    "    lap_kernel = np.array([\n",
    "        [0,1,0],\n",
    "        [1,-4,1],\n",
    "        [0,1,0]\n",
    "    ])\n",
    "\n",
    "    result = cv2.filter2D(temp,-1,lap_kernel)\n",
    "    data_array.append(result)\n",
    "#     plt.axis('off')\n",
    "#     plt.imshow(result,cmap='gray')\n",
    "#     plt.savefig(\"LoG_images/\"+ str(x) + '.png',bbox_inches='tight')\n",
    "#     plt.show()\n",
    "# -- end code --"
   ]
  },
  {
   "cell_type": "markdown",
   "metadata": {},
   "source": [
    "Example"
   ]
  },
  {
   "cell_type": "code",
   "execution_count": null,
   "metadata": {},
   "outputs": [],
   "source": [
    "plt.axis('off')\n",
    "plt.imshow(one[-1],cmap='gray')\n",
    "plt.show()"
   ]
  },
  {
   "cell_type": "code",
   "execution_count": null,
   "metadata": {
    "scrolled": true
   },
   "outputs": [],
   "source": [
    "# Original Picture\n",
    "hist,bins = np.histogram(one[-1].flatten(),256,[0,256])\n",
    "\n",
    "cdf = hist.cumsum()\n",
    "cdf_normalized = cdf * hist.max()/ cdf.max()\n",
    "\n",
    "plt.plot(cdf_normalized, color = 'b')\n",
    "plt.hist(one[-1].flatten(),256,[0,256], color = 'r')\n",
    "plt.xlim([0,256])\n",
    "plt.legend(('cdf','histogram'), loc = 'upper left')\n",
    "plt.show()"
   ]
  },
  {
   "cell_type": "code",
   "execution_count": null,
   "metadata": {
    "scrolled": true
   },
   "outputs": [],
   "source": [
    "plt.axis('off')\n",
    "plt.imshow(result,cmap='gray')\n",
    "plt.show()"
   ]
  },
  {
   "cell_type": "code",
   "execution_count": null,
   "metadata": {},
   "outputs": [],
   "source": [
    "# Histogram after LoG\n",
    "hist,bins = np.histogram(result.flatten(),12,[0,12])\n",
    "\n",
    "cdf = hist.cumsum()\n",
    "cdf_normalized = cdf * hist.max()/ cdf.max()\n",
    "\n",
    "plt.plot(cdf_normalized, color = 'b')\n",
    "plt.hist(result.flatten(),12,[0,12], color = 'r')\n",
    "plt.xlim([0,12])\n",
    "plt.legend(('cdf','histogram'), loc = 'upper left')\n",
    "plt.show()"
   ]
  },
  {
   "cell_type": "markdown",
   "metadata": {},
   "source": [
    "## Histogram\n",
    "\n",
    "* Applying Histograms Equalization: \n",
    "https://opencv-python-tutroals.readthedocs.io/en/latest/py_tutorials/py_imgproc/py_histograms/py_histogram_equalization/py_histogram_equalization.html\n",
    "* In-depth lecture on histogram analysis of digital image: https://web.cs.wpi.edu/~emmanuel/courses/cs545/S14/slides/lecture02.pdf"
   ]
  },
  {
   "cell_type": "code",
   "execution_count": null,
   "metadata": {},
   "outputs": [],
   "source": [
    "img = cv2.imread(lstFilesDCM[-1],0)\n",
    "equ = cv2.equalizeHist(img)\n",
    "res = np.hstack((img,equ)) #stacking images side-by-side\n",
    "plt.axis('off')\n",
    "plt.imshow(res,cmap='gray')\n",
    "plt.show()"
   ]
  },
  {
   "cell_type": "code",
   "execution_count": null,
   "metadata": {},
   "outputs": [],
   "source": [
    "# After equalization\n",
    "hist,bins = np.histogram(equ,256,[0,256])\n",
    "\n",
    "cdf = hist.cumsum()\n",
    "cdf_normalized = cdf * hist.max()/ cdf.max()\n",
    "\n",
    "plt.plot(cdf_normalized, color = 'b')\n",
    "plt.hist(one[-1].flatten(),256,[0,256], color = 'r')\n",
    "plt.xlim([0,256])\n",
    "plt.legend(('cdf','histogram'), loc = 'upper left')\n",
    "plt.show()"
   ]
  },
  {
   "cell_type": "code",
   "execution_count": null,
   "metadata": {},
   "outputs": [],
   "source": [
    "hist_data = []\n",
    "for i in lstFilesDCM:\n",
    "    img = cv2.imread(i,0)\n",
    "    equ = cv2.equalizeHist(img)\n",
    "    hist_data.append(equ)\n",
    "    \n",
    "hist_data = np.array(hist_data).flatten().reshape(n,-1)"
   ]
  },
  {
   "cell_type": "code",
   "execution_count": null,
   "metadata": {
    "scrolled": false
   },
   "outputs": [],
   "source": [
    "# Using Histogram Equalization set\n",
    "X_train, X_test, y_train, y_test = train_test_split(hist_data,y, test_size=0.3, random_state=42)\n",
    "print('Training data and target sizes: \\n{}, {}'.format(X_train.shape,y_train.shape))\n",
    "print('Test data and target sizes: \\n{}, {}'.format(X_test.shape,y_test.shape))"
   ]
  },
  {
   "cell_type": "markdown",
   "metadata": {},
   "source": [
    "## Reshaping and splitting dataset"
   ]
  },
  {
   "cell_type": "code",
   "execution_count": 39,
   "metadata": {},
   "outputs": [],
   "source": [
    "data_array = norm_data.flatten().reshape(n1+n2,-1)"
   ]
  },
  {
   "cell_type": "code",
   "execution_count": 40,
   "metadata": {
    "scrolled": true
   },
   "outputs": [
    {
     "data": {
      "text/plain": [
       "(4490, 50176)"
      ]
     },
     "execution_count": 40,
     "metadata": {},
     "output_type": "execute_result"
    }
   ],
   "source": [
    "data_array.shape"
   ]
  },
  {
   "cell_type": "code",
   "execution_count": 41,
   "metadata": {},
   "outputs": [],
   "source": [
    "Y = np.concatenate((gauss_y,resized_y))"
   ]
  },
  {
   "cell_type": "code",
   "execution_count": 42,
   "metadata": {
    "scrolled": true
   },
   "outputs": [
    {
     "name": "stdout",
     "output_type": "stream",
     "text": [
      "Training data and target sizes: \n",
      "(3143, 50176), (3143,)\n",
      "Test data and target sizes: \n",
      "(1347, 50176), (1347,)\n"
     ]
    }
   ],
   "source": [
    "X_train, X_test, y_train, y_test = train_test_split(data_array,Y, test_size=0.3, random_state=42)\n",
    "print('Training data and target sizes: \\n{}, {}'.format(X_train.shape,y_train.shape))\n",
    "print('Test data and target sizes: \\n{}, {}'.format(X_test.shape,y_test.shape))"
   ]
  },
  {
   "cell_type": "markdown",
   "metadata": {},
   "source": [
    "## Data Preprocessing, Training and Testing"
   ]
  },
  {
   "cell_type": "markdown",
   "metadata": {},
   "source": [
    "**KMeans**"
   ]
  },
  {
   "cell_type": "code",
   "execution_count": 51,
   "metadata": {},
   "outputs": [
    {
     "name": "stdout",
     "output_type": "stream",
     "text": [
      "Reduced Shape: (3143, 39)\n"
     ]
    }
   ],
   "source": [
    "# Preprocessing with KMeans\n",
    "# Rule of thumb for picking K\n",
    "#k = 30\n",
    "k = math.sqrt(X_train.shape[0]/2)\n",
    "kmnist_kmeans = KMeans(n_clusters=int(k), max_iter = 1000).fit(X_train)\n",
    "X_train_cluster = kmnist_kmeans.transform(X_train)\n",
    "X_test_cluster = kmnist_kmeans.transform(X_test)\n",
    "print(\"Reduced Shape:\", X_train_cluster.shape)"
   ]
  },
  {
   "cell_type": "markdown",
   "metadata": {},
   "source": [
    "w/SVM"
   ]
  },
  {
   "cell_type": "code",
   "execution_count": 52,
   "metadata": {
    "scrolled": true
   },
   "outputs": [
    {
     "name": "stdout",
     "output_type": "stream",
     "text": [
      "Data fitting takes 2.2962039999997614 seconds\n",
      "Testing Accuracy 0.47216035634743875\n"
     ]
    }
   ],
   "source": [
    "kmean_svm = svm.SVC(gamma=0.001,class_weight='balanced')\n",
    "starting_time = time.process_time()\n",
    "kmean_svm.fit(X_train_cluster,y_train)\n",
    "print(\"Data fitting takes\", time.process_time() - starting_time, \"seconds\")\n",
    "print(\"Testing Accuracy\", kmean_svm.score(X_test_cluster, y_test))"
   ]
  },
  {
   "cell_type": "code",
   "execution_count": null,
   "metadata": {},
   "outputs": [],
   "source": []
  },
  {
   "cell_type": "code",
   "execution_count": 53,
   "metadata": {
    "scrolled": false
   },
   "outputs": [
    {
     "data": {
      "image/png": "[encoded data removed]",
      "text/plain": [
       "<Figure size 432x360 with 2 Axes>"
      ]
     },
     "metadata": {
      "needs_background": "light"
     },
     "output_type": "display_data"
    },
    {
     "name": "stdout",
     "output_type": "stream",
     "text": [
      "              precision    recall  f1-score   support\n",
      "\n",
      "         0.0       0.38      0.65      0.48       290\n",
      "         1.0       0.45      0.39      0.42       262\n",
      "         2.0       0.37      0.31      0.34       285\n",
      "         3.0       0.62      0.52      0.57       256\n",
      "         4.0       0.69      0.49      0.57       254\n",
      "\n",
      "    accuracy                           0.47      1347\n",
      "   macro avg       0.50      0.47      0.48      1347\n",
      "weighted avg       0.50      0.47      0.47      1347\n",
      "\n"
     ]
    }
   ],
   "source": [
    "y_pred = kmean_svm.predict(X_test_cluster)\n",
    "f, ax = plt.subplots(figsize=(6, 5))\n",
    "ax = sns.heatmap(confusion_matrix(y_test, y_pred), annot=True)\n",
    "ax.set_ylim(5.0, 0)\n",
    "plt.show()\n",
    "\n",
    "print(classification_report(y_test,y_pred))"
   ]
  }
 ],
 "metadata": {
  "kernelspec": {
   "display_name": "Python 3",
   "language": "python",
   "name": "python3"
  },
  "language_info": {
   "codemirror_mode": {
    "name": "ipython",
    "version": 3
   },
   "file_extension": ".py",
   "mimetype": "text/x-python",
   "name": "python",
   "nbconvert_exporter": "python",
   "pygments_lexer": "ipython3",
   "version": "3.7.1"
  }
 },
 "nbformat": 4,
 "nbformat_minor": 2
}
